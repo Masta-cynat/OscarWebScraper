{
  "nbformat": 4,
  "nbformat_minor": 0,
  "metadata": {
    "colab": {
      "provenance": [],
      "authorship_tag": "ABX9TyMdnQueDlLeJjNe0AvRZuIW",
      "include_colab_link": true
    },
    "kernelspec": {
      "name": "python3",
      "display_name": "Python 3"
    },
    "language_info": {
      "name": "python"
    }
  },
  "cells": [
    {
      "cell_type": "markdown",
      "metadata": {
        "id": "view-in-github",
        "colab_type": "text"
      },
      "source": [
        "<a href=\"https://colab.research.google.com/github/Masta-cynat/OscarWebScraper/blob/main/Cleaning%20ETL%20Function.ipynb\" target=\"_parent\"><img src=\"https://colab.research.google.com/assets/colab-badge.svg\" alt=\"Open In Colab\"/></a>"
      ]
    },
    {
      "cell_type": "code",
      "execution_count": null,
      "metadata": {
        "id": "JWVNxu0PwedE"
      },
      "outputs": [],
      "source": [
        "def locate_and_ingest_chunks(output_prefix, file_extension='.csv'):\n",
        "    \"\"\"\n",
        "    Locate all chunk files produced by the CSV splitter, apply ETL functionality, and process the data.\n",
        "\n",
        "    Parameters:\n",
        "    output_prefix (str): The prefix used when creating the chunk files.\n",
        "    file_extension (str): The file extension for the chunk files (default is '.csv').\n",
        "\n",
        "    Returns:\n",
        "    pd.DataFrame: The consolidated DataFrame after loading and processing all chunk files.\n",
        "    \"\"\"\n",
        "    # Locate all chunk files in the current directory\n",
        "    chunk_files = [f for f in os.listdir() if f.startswith(output_prefix) and f.endswith(file_extension)]\n",
        "\n",
        "    if not chunk_files:\n",
        "        print(\"No chunk files found with the specified prefix.\")\n",
        "        return None\n",
        "\n",
        "    print(f\"Found {len(chunk_files)} chunk files.\")\n",
        "\n",
        "    # Initialize an empty DataFrame to store the consolidated data\n",
        "    consolidated_df = pd.DataFrame()\n",
        "\n",
        "    # ETL (Extract, Transform, Load) for each chunk file\n",
        "    for chunk_file in sorted(chunk_files):\n",
        "        print(f\"Processing file: {chunk_file}\")\n",
        "\n",
        "        # Extract: Read the chunk file into a DataFrame\n",
        "        chunk_df = pd.read_csv(chunk_file, sep=';', low_memory=True)\n",
        "\n",
        "        # Transform: (Add custom transformations here if needed)\n",
        "        # For example, you can filter data, rename columns, drop unnecessary rows, etc.\n",
        "        # Example transformation: Drop rows with missing values\n",
        "        chunk_df = chunk_df.dropna()\n",
        "\n",
        "        # Load: Append the transformed chunk to the consolidated DataFrame\n",
        "        consolidated_df = pd.concat([consolidated_df, chunk_df], ignore_index=True)\n",
        "\n",
        "    print(f\"Consolidated data contains {consolidated_df.shape[0]} rows and {consolidated_df.shape[1]} columns.\")\n",
        "\n",
        "    return consolidated_df\n",
        "\n",
        "\n",
        "def save_consolidated_file(consolidated_df, output_file):\n",
        "    \"\"\"\n",
        "    Save the consolidated DataFrame into a single CSV file.\n",
        "\n",
        "    Parameters:\n",
        "    consolidated_df (pd.DataFrame): The consolidated DataFrame.\n",
        "    output_file (str): The name of the output file to save the consolidated data.\n",
        "    \"\"\"\n",
        "    # Load: Save the consolidated data to a new CSV file\n",
        "    consolidated_df.to_csv(output_file, index=False, sep=';')\n",
        "    print(f\"Saved the consolidated data to {output_file}\")\n",
        "\n",
        "# Usage example\n",
        "output_prefix = 'chunk'  # Prefix for the chunk files\n",
        "consolidated_output_file = 'consolidated_lifebear.csv'  # Name of the output file for the consolidated data\n",
        "\n",
        "# Locate and process chunk files\n",
        "consolidated_df = locate_and_ingest_chunks(output_prefix)\n",
        "\n",
        "# Save the consolidated data to a new file if processing was successful\n",
        "if consolidated_df is not None:\n",
        "    save_consolidated_file(consolidated_df, consolidated_output_file)\n"
      ]
    }
  ]
}